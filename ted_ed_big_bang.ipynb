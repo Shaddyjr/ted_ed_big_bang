{
 "cells": [
  {
   "cell_type": "markdown",
   "metadata": {},
   "source": [
    "# Ted Ed Riddle: Big Bang\n",
    "\n",
    "[Source](https://www.youtube.com/watch?v=SEDabz-hyKo)\n",
    "\n",
    "[Glitched Failure Video]()\n"
   ]
  },
  {
   "cell_type": "markdown",
   "metadata": {
    "tags": []
   },
   "source": [
    "## Proposed Algorithm:\n",
    "- Search for optimum position by iterating over all positions\n",
    "- Can ignore being to left of any antimatter particle\n",
    "- ALWAYS better to be leftmost of any group of matter particles\n",
    "- We need to position ourselves to the left of any last surviving matter particle before all are annihilated"
   ]
  },
  {
   "cell_type": "markdown",
   "metadata": {},
   "source": [
    "## `Particle` class\n",
    "\n",
    "- Will act as a graph node in a circular graph\n",
    "- Uses a \"doubly linked list\"-style approach keeping track of `Particle` to it's left and right"
   ]
  },
  {
   "cell_type": "code",
   "execution_count": 68,
   "metadata": {},
   "outputs": [],
   "source": [
    "class Particle:\n",
    "    MATTER = '+'\n",
    "    ANNIHILATED = '💀'\n",
    "    ANTI_MATTER = '-'\n",
    "    \n",
    "    def __init__(self, particle_type, pos):\n",
    "        self.left = None\n",
    "        self.right = None\n",
    "        self.to_be_annihilated = False\n",
    "        self.state = particle_type\n",
    "        self.pos = pos\n",
    "        \n",
    "    def annihilate(self):\n",
    "        self.state = self.ANNIHILATED\n",
    "        self.to_be_annihilated = False"
   ]
  },
  {
   "cell_type": "markdown",
   "metadata": {},
   "source": [
    "## `Circle` class\n",
    "- Will act as a wrapper class to manage `Particle`s\n",
    "- Responsible for handling each \"round\" of annihilation."
   ]
  },
  {
   "cell_type": "code",
   "execution_count": 89,
   "metadata": {},
   "outputs": [],
   "source": [
    "class Circle:\n",
    "    def __init__(self, particles):\n",
    "        self.root = self.init_particles(particles)\n",
    "        self.matter_count = len(particles) // 2 # half are matter particles\n",
    "\n",
    "    def init_particles(self, particles):\n",
    "        root = None\n",
    "        prev_particle = None\n",
    "        for i, particle_type in enumerate(particles):\n",
    "            particle = Particle(particle_type=particle_type, pos=i)\n",
    "            if root == None:\n",
    "                root = particle\n",
    "            else:\n",
    "                prev_particle.left = particle\n",
    "                particle.right = prev_particle\n",
    "            prev_particle = particle\n",
    "        \n",
    "        # link last particle to root\n",
    "        prev_particle.left = root\n",
    "        root.right = prev_particle\n",
    "        \n",
    "        return root\n",
    "\n",
    "    def print_circle(self):\n",
    "        particle_states = []\n",
    "        considered = set()\n",
    "        curr_particle = self.root\n",
    "        while curr_particle.pos not in considered:\n",
    "            considered.add(curr_particle.pos)\n",
    "            if curr_particle.state != Particle.ANNIHILATED:\n",
    "                particle_states.append(f'{curr_particle.state}/{curr_particle.pos}')\n",
    "            curr_particle = curr_particle.right\n",
    "        print('..., ' + ', '.join(particle_states) + ', ...')\n",
    "    \n",
    "    def annihilate(self):\n",
    "        \"\"\"\n",
    "        Go through all surviving particles and annihilate each pair where\n",
    "        antimatter is to the right of a matter particle.\n",
    "        \"\"\"\n",
    "        to_be_annihilated_list = []\n",
    "        curr_particle = self.root\n",
    "\n",
    "        while not curr_particle.to_be_annihilated:\n",
    "            # only consider matter particles, skip over anything else\n",
    "            # NOTE: moving to right always\n",
    "            if curr_particle.state != Particle.MATTER:\n",
    "                curr_particle = curr_particle.right\n",
    "                continue\n",
    "            # curr_particle.state is Particle.MATTER\n",
    "            # secure \"left\" matter particle\n",
    "            left_matter_particle = curr_particle\n",
    "            curr_particle = curr_particle.right\n",
    "            \n",
    "            # skip over any ANNIHILATED\n",
    "            while curr_particle.state == Particle.ANNIHILATED:\n",
    "                curr_particle = curr_particle.right\n",
    "            \n",
    "            # Flag for annihilation\n",
    "            if curr_particle.state == Particle.ANTI_MATTER:\n",
    "                right_antimatter_particle = curr_particle\n",
    "                left_matter_particle.to_be_annihilated = True\n",
    "                right_antimatter_particle.to_be_annihilated = True\n",
    "                to_be_annihilated_list.append(left_matter_particle)\n",
    "                to_be_annihilated_list.append(right_antimatter_particle)\n",
    "                curr_particle = curr_particle.right\n",
    "        \n",
    "        # Annihilate!\n",
    "        for particle in to_be_annihilated_list:\n",
    "            if particle.state == Particle.MATTER:\n",
    "                self.matter_count -= 1\n",
    "            particle.annihilate()\n",
    "    \n",
    "    def get_last_survivor_pos(self, verbose = False):\n",
    "        # go through successive rounds of annihilation until last survivor(s)\n",
    "        survivor_pos = set()\n",
    "        i = 0\n",
    "        while self.matter_count:\n",
    "            if verbose:\n",
    "                print(f'Round: {i}')\n",
    "                i += 1\n",
    "                self.print_circle()\n",
    "                print('===========')\n",
    "            self.annihilate()\n",
    "            \n",
    "            # record survivor positions\n",
    "            curr_particle = self.root\n",
    "            past_first = False\n",
    "            temp_survivor_pos = set()\n",
    "            while not (curr_particle.pos == 0 and past_first):\n",
    "                if curr_particle.state == Particle.MATTER:\n",
    "                    temp_survivor_pos.add(curr_particle.pos)\n",
    "                curr_particle = curr_particle.right\n",
    "                past_first = True\n",
    "            if len(temp_survivor_pos):\n",
    "                survivor_pos = temp_survivor_pos\n",
    "        return survivor_pos"
   ]
  },
  {
   "cell_type": "markdown",
   "metadata": {},
   "source": [
    "## 1st Circle\n",
    "\n",
    "<img src='assets/circles.png' width='600px'>"
   ]
  },
  {
   "cell_type": "code",
   "execution_count": 90,
   "metadata": {},
   "outputs": [],
   "source": [
    "particles_1 = [\n",
    "    Particle.MATTER,\n",
    "    Particle.MATTER,\n",
    "    Particle.MATTER,\n",
    "    Particle.ANTI_MATTER,\n",
    "    Particle.MATTER,\n",
    "    Particle.MATTER,\n",
    "    Particle.ANTI_MATTER,\n",
    "    Particle.ANTI_MATTER,\n",
    "    Particle.ANTI_MATTER,\n",
    "    Particle.ANTI_MATTER,\n",
    "]"
   ]
  },
  {
   "cell_type": "code",
   "execution_count": 91,
   "metadata": {},
   "outputs": [],
   "source": [
    "circle_1 = Circle(particles_1)"
   ]
  },
  {
   "cell_type": "code",
   "execution_count": 92,
   "metadata": {},
   "outputs": [
    {
     "name": "stdout",
     "output_type": "stream",
     "text": [
      "..., +/0, -/9, -/8, -/7, -/6, +/5, +/4, -/3, +/2, +/1, ...\n"
     ]
    }
   ],
   "source": [
    "circle_1.print_circle()"
   ]
  },
  {
   "cell_type": "code",
   "execution_count": 93,
   "metadata": {},
   "outputs": [
    {
     "name": "stdout",
     "output_type": "stream",
     "text": [
      "Round: 0\n",
      "..., +/0, -/9, -/8, -/7, -/6, +/5, +/4, -/3, +/2, +/1, ...\n",
      "===========\n",
      "Round: 1\n",
      "..., -/8, -/7, -/6, +/5, +/2, +/1, ...\n",
      "===========\n",
      "Round: 2\n",
      "..., -/7, -/6, +/5, +/2, ...\n",
      "===========\n",
      "Round: 3\n",
      "..., -/6, +/5, ...\n",
      "===========\n"
     ]
    },
    {
     "data": {
      "text/plain": [
       "{5}"
      ]
     },
     "execution_count": 93,
     "metadata": {},
     "output_type": "execute_result"
    }
   ],
   "source": [
    "circle_1.get_last_survivor_pos(verbose=True)"
   ]
  },
  {
   "cell_type": "markdown",
   "metadata": {},
   "source": [
    "### Intrepretation:\n",
    "- Being at leftmost on the largest group of consecutive matter particles is best "
   ]
  },
  {
   "cell_type": "markdown",
   "metadata": {},
   "source": [
    "## 2nd Circle\n",
    "\n",
    "<img src='assets/circles.png' width='600px'>"
   ]
  },
  {
   "cell_type": "code",
   "execution_count": 94,
   "metadata": {},
   "outputs": [],
   "source": [
    "particles_2 = [\n",
    "    Particle.ANTI_MATTER,\n",
    "    Particle.ANTI_MATTER,\n",
    "    Particle.ANTI_MATTER,\n",
    "    Particle.MATTER,\n",
    "    Particle.ANTI_MATTER,\n",
    "    Particle.MATTER,\n",
    "    Particle.MATTER,\n",
    "    Particle.MATTER,\n",
    "    Particle.ANTI_MATTER,\n",
    "    Particle.ANTI_MATTER,\n",
    "    Particle.MATTER,\n",
    "    Particle.MATTER,\n",
    "    Particle.ANTI_MATTER,\n",
    "    Particle.MATTER,\n",
    "    Particle.ANTI_MATTER,\n",
    "    Particle.ANTI_MATTER,\n",
    "    Particle.MATTER,\n",
    "    Particle.MATTER,\n",
    "    Particle.ANTI_MATTER,\n",
    "    Particle.MATTER,\n",
    "]"
   ]
  },
  {
   "cell_type": "code",
   "execution_count": 95,
   "metadata": {},
   "outputs": [
    {
     "name": "stdout",
     "output_type": "stream",
     "text": [
      "Round: 0\n",
      "..., -/0, +/19, -/18, +/17, +/16, -/15, -/14, +/13, -/12, +/11, +/10, -/9, -/8, +/7, +/6, +/5, -/4, +/3, -/2, -/1, ...\n",
      "===========\n",
      "Round: 1\n",
      "..., -/0, +/17, -/14, +/11, -/8, +/7, +/6, -/1, ...\n",
      "===========\n",
      "Round: 2\n",
      "..., -/0, +/7, ...\n",
      "===========\n"
     ]
    },
    {
     "data": {
      "text/plain": [
       "{7}"
      ]
     },
     "execution_count": 95,
     "metadata": {},
     "output_type": "execute_result"
    }
   ],
   "source": [
    "circle_2 = Circle(particles_2)\n",
    "circle_2.get_last_survivor_pos(verbose=True)"
   ]
  },
  {
   "cell_type": "markdown",
   "metadata": {},
   "source": [
    "### Intrepretation:\n",
    "- Being at leftmost on the largest group of consecutive matter particles is best "
   ]
  },
  {
   "cell_type": "markdown",
   "metadata": {},
   "source": [
    "## 3rd Circle\n",
    "\n",
    "<img src='assets/circles.png' width='600px'>"
   ]
  },
  {
   "cell_type": "code",
   "execution_count": 96,
   "metadata": {},
   "outputs": [],
   "source": [
    "particles_3 = [\n",
    "    Particle.MATTER,\n",
    "    Particle.MATTER,\n",
    "    Particle.MATTER,\n",
    "    Particle.MATTER,\n",
    "    Particle.MATTER,\n",
    "    Particle.ANTI_MATTER,\n",
    "    Particle.ANTI_MATTER,\n",
    "    Particle.MATTER,\n",
    "    Particle.ANTI_MATTER,\n",
    "    Particle.MATTER,\n",
    "    Particle.MATTER,\n",
    "    Particle.MATTER,\n",
    "    Particle.ANTI_MATTER,\n",
    "    Particle.ANTI_MATTER,\n",
    "    Particle.ANTI_MATTER,\n",
    "    Particle.MATTER,\n",
    "    Particle.ANTI_MATTER,\n",
    "    Particle.MATTER,\n",
    "    Particle.MATTER,\n",
    "    Particle.ANTI_MATTER,\n",
    "    Particle.ANTI_MATTER,\n",
    "    Particle.ANTI_MATTER,\n",
    "    Particle.ANTI_MATTER,\n",
    "    Particle.ANTI_MATTER,\n",
    "]"
   ]
  },
  {
   "cell_type": "code",
   "execution_count": 97,
   "metadata": {},
   "outputs": [
    {
     "name": "stdout",
     "output_type": "stream",
     "text": [
      "Round: 0\n",
      "..., +/0, -/23, -/22, -/21, -/20, -/19, +/18, +/17, -/16, +/15, -/14, -/13, -/12, +/11, +/10, +/9, -/8, +/7, -/6, -/5, +/4, +/3, +/2, +/1, ...\n",
      "===========\n",
      "Round: 1\n",
      "..., -/22, -/21, -/20, -/19, +/18, -/13, -/12, +/11, +/10, -/5, +/4, +/3, +/2, +/1, ...\n",
      "===========\n",
      "Round: 2\n",
      "..., -/21, -/20, -/19, -/12, +/11, +/4, +/3, +/2, ...\n",
      "===========\n",
      "Round: 3\n",
      "..., -/20, -/19, -/12, +/11, +/4, +/3, ...\n",
      "===========\n",
      "Round: 4\n",
      "..., -/19, -/12, +/11, +/4, ...\n",
      "===========\n",
      "Round: 5\n",
      "..., -/12, +/11, ...\n",
      "===========\n"
     ]
    },
    {
     "data": {
      "text/plain": [
       "{11}"
      ]
     },
     "execution_count": 97,
     "metadata": {},
     "output_type": "execute_result"
    }
   ],
   "source": [
    "circle_3 = Circle(particles_3)\n",
    "circle_3.get_last_survivor_pos(verbose=True)"
   ]
  },
  {
   "cell_type": "markdown",
   "metadata": {},
   "source": [
    "### Intrepretation:\n",
    "- Being at leftmost on the largest group of consecutive matter particles is best "
   ]
  },
  {
   "cell_type": "markdown",
   "metadata": {},
   "source": [
    "## Making our own examples!\n",
    "\n",
    "`create_particles`:\n",
    "- Takes `n` int argument\n",
    "- Returns a list of `n` matter and antimatter particles randomly distributed "
   ]
  },
  {
   "cell_type": "code",
   "execution_count": 98,
   "metadata": {},
   "outputs": [],
   "source": [
    "import numpy as np"
   ]
  },
  {
   "cell_type": "code",
   "execution_count": 99,
   "metadata": {},
   "outputs": [],
   "source": [
    "def create_particles(n = 10, seed = 123):\n",
    "    np.random.seed(seed)\n",
    "    PARTICLES = [Particle.MATTER, Particle.ANTI_MATTER]\n",
    "    counts = {\n",
    "        Particle.MATTER : n,\n",
    "        Particle.ANTI_MATTER : n\n",
    "    }\n",
    "    \n",
    "    output = []\n",
    "    while len(output) < n * 2:\n",
    "        total_p = sum(counts.values())\n",
    "        p = [counts[particle_type] / total_p for particle_type in PARTICLES]\n",
    "        choice = np.random.choice(PARTICLES, p = p)\n",
    "        output.append(choice)\n",
    "        counts[choice] -= 1\n",
    "    return output"
   ]
  },
  {
   "cell_type": "code",
   "execution_count": 100,
   "metadata": {},
   "outputs": [
    {
     "data": {
      "text/plain": [
       "['-', '+', '+', '-', '-', '+', '-', '-', '+', '+']"
      ]
     },
     "execution_count": 100,
     "metadata": {},
     "output_type": "execute_result"
    }
   ],
   "source": [
    "example_particles = create_particles(n=5, seed = 123)\n",
    "example_particles"
   ]
  },
  {
   "cell_type": "code",
   "execution_count": 101,
   "metadata": {},
   "outputs": [
    {
     "data": {
      "text/plain": [
       "Counter({'-': 5, '+': 5})"
      ]
     },
     "execution_count": 101,
     "metadata": {},
     "output_type": "execute_result"
    }
   ],
   "source": [
    "from collections import Counter\n",
    "occurrences = Counter(example_particles)\n",
    "occurrences"
   ]
  },
  {
   "cell_type": "code",
   "execution_count": 102,
   "metadata": {},
   "outputs": [],
   "source": [
    "def print_val_with_index(arr):\n",
    "    for i, val in enumerate(arr):\n",
    "        print(f\"{i}: {val}\")"
   ]
  },
  {
   "cell_type": "code",
   "execution_count": 103,
   "metadata": {},
   "outputs": [
    {
     "name": "stdout",
     "output_type": "stream",
     "text": [
      "0: -\n",
      "1: +\n",
      "2: +\n",
      "3: -\n",
      "4: -\n",
      "5: +\n",
      "6: -\n",
      "7: -\n",
      "8: +\n",
      "9: +\n"
     ]
    }
   ],
   "source": [
    "print_val_with_index(example_particles)"
   ]
  },
  {
   "cell_type": "markdown",
   "metadata": {},
   "source": [
    "## Testing on larger custom examples"
   ]
  },
  {
   "cell_type": "markdown",
   "metadata": {},
   "source": [
    "### Custom test #1"
   ]
  },
  {
   "cell_type": "code",
   "execution_count": 104,
   "metadata": {},
   "outputs": [
    {
     "name": "stdout",
     "output_type": "stream",
     "text": [
      "0: +\n",
      "1: +\n",
      "2: -\n",
      "3: +\n",
      "4: +\n",
      "5: +\n",
      "6: +\n",
      "7: -\n",
      "8: +\n",
      "9: +\n",
      "10: -\n",
      "11: -\n",
      "12: +\n",
      "13: -\n",
      "14: +\n",
      "15: -\n",
      "16: -\n",
      "17: -\n",
      "18: -\n",
      "19: +\n",
      "20: -\n",
      "21: +\n",
      "22: -\n",
      "23: +\n",
      "24: +\n",
      "25: -\n",
      "26: +\n",
      "27: -\n",
      "28: -\n",
      "29: -\n"
     ]
    }
   ],
   "source": [
    "test_particles_1 = create_particles(n=15, seed=2)\n",
    "print_val_with_index(test_particles_1)"
   ]
  },
  {
   "cell_type": "code",
   "execution_count": 105,
   "metadata": {},
   "outputs": [
    {
     "name": "stdout",
     "output_type": "stream",
     "text": [
      "Round: 0\n",
      "..., +/0, -/29, -/28, -/27, +/26, -/25, +/24, +/23, -/22, +/21, -/20, +/19, -/18, -/17, -/16, -/15, +/14, -/13, +/12, -/11, -/10, +/9, +/8, -/7, +/6, +/5, +/4, +/3, -/2, +/1, ...\n",
      "===========\n",
      "Round: 1\n",
      "..., -/28, -/27, +/24, -/17, -/16, -/15, -/10, +/9, +/6, +/5, +/4, +/1, ...\n",
      "===========\n",
      "Round: 2\n",
      "..., -/27, -/16, -/15, -/10, +/9, +/6, +/5, +/4, ...\n",
      "===========\n",
      "Round: 3\n",
      "..., -/16, -/15, -/10, +/9, +/6, +/5, ...\n",
      "===========\n",
      "Round: 4\n",
      "..., -/15, -/10, +/9, +/6, ...\n",
      "===========\n",
      "Round: 5\n",
      "..., -/10, +/9, ...\n",
      "===========\n"
     ]
    },
    {
     "data": {
      "text/plain": [
       "{9}"
      ]
     },
     "execution_count": 105,
     "metadata": {},
     "output_type": "execute_result"
    }
   ],
   "source": [
    "test_circle_1 = Circle(test_particles_1)\n",
    "test_circle_1.get_last_survivor_pos(verbose=True)"
   ]
  },
  {
   "cell_type": "markdown",
   "metadata": {},
   "source": [
    "### Intrepretation:\n",
    "- Being at leftmost on the largest group of consecutive matter particles is best \n",
    "- BUT we must consider \"additive\" effects from matter \"clumping\" together after consecutive rounds of annihilation"
   ]
  },
  {
   "cell_type": "markdown",
   "metadata": {},
   "source": [
    "### Custom test #2"
   ]
  },
  {
   "cell_type": "code",
   "execution_count": 106,
   "metadata": {},
   "outputs": [
    {
     "name": "stdout",
     "output_type": "stream",
     "text": [
      "0: +\n",
      "1: +\n",
      "2: -\n",
      "3: +\n",
      "4: +\n",
      "5: +\n",
      "6: +\n",
      "7: -\n",
      "8: +\n",
      "9: +\n",
      "10: -\n",
      "11: -\n",
      "12: +\n",
      "13: -\n",
      "14: +\n",
      "15: -\n",
      "16: -\n",
      "17: -\n",
      "18: -\n",
      "19: +\n",
      "20: -\n",
      "21: +\n",
      "22: +\n",
      "23: +\n",
      "24: +\n",
      "25: -\n",
      "26: +\n",
      "27: +\n",
      "28: +\n",
      "29: +\n",
      "30: -\n",
      "31: +\n",
      "32: -\n",
      "33: -\n",
      "34: -\n",
      "35: +\n",
      "36: -\n",
      "37: -\n",
      "38: +\n",
      "39: -\n",
      "40: -\n",
      "41: -\n",
      "42: -\n",
      "43: +\n",
      "44: -\n",
      "45: +\n",
      "46: -\n",
      "47: -\n",
      "48: -\n",
      "49: -\n",
      "50: +\n",
      "51: +\n",
      "52: +\n",
      "53: -\n",
      "54: +\n",
      "55: +\n",
      "56: +\n",
      "57: -\n",
      "58: -\n",
      "59: -\n"
     ]
    }
   ],
   "source": [
    "test_particles_2 = create_particles(n=30, seed=2)\n",
    "print_val_with_index(test_particles_2)"
   ]
  },
  {
   "cell_type": "code",
   "execution_count": 86,
   "metadata": {},
   "outputs": [
    {
     "name": "stdout",
     "output_type": "stream",
     "text": [
      "Round: 0\n",
      "..., +/0, +/1, -/2, +/3, +/4, +/5, +/6, -/7, +/8, +/9, -/10, -/11, +/12, -/13, +/14, -/15, -/16, -/17, -/18, +/19, -/20, +/21, +/22, +/23, +/24, -/25, +/26, +/27, +/28, +/29, -/30, +/31, -/32, -/33, -/34, +/35, -/36, -/37, +/38, -/39, -/40, -/41, -/42, +/43, -/44, +/45, -/46, -/47, -/48, -/49, +/50, +/51, +/52, -/53, +/54, +/55, +/56, -/57, -/58, -/59, ...\n",
      "===========\n",
      "Round: 1\n",
      "..., +/0, +/3, +/4, +/5, +/8, -/11, -/16, -/17, -/18, +/21, +/22, +/23, +/26, +/27, +/28, -/33, -/34, -/37, -/40, -/41, -/42, -/47, -/48, -/49, +/50, +/51, +/54, +/55, -/58, -/59, ...\n",
      "===========\n",
      "Round: 2\n",
      "..., +/0, +/3, +/4, +/5, -/16, -/17, -/18, +/21, +/22, +/23, +/26, +/27, -/34, -/37, -/40, -/41, -/42, -/47, -/48, -/49, +/50, +/51, +/54, -/59, ...\n",
      "===========\n",
      "Round: 3\n",
      "..., +/0, +/3, +/4, -/17, -/18, +/21, +/22, +/23, +/26, -/37, -/40, -/41, -/42, -/47, -/48, -/49, +/50, +/51, ...\n",
      "===========\n",
      "Round: 4\n",
      "..., +/0, +/3, -/18, +/21, +/22, +/23, -/40, -/41, -/42, -/47, -/48, -/49, +/50, +/51, ...\n",
      "===========\n",
      "Round: 5\n",
      "..., +/0, +/21, +/22, -/41, -/42, -/47, -/48, -/49, +/50, +/51, ...\n",
      "===========\n",
      "Round: 6\n",
      "..., +/0, +/21, -/42, -/47, -/48, -/49, +/50, +/51, ...\n",
      "===========\n",
      "Round: 7\n",
      "..., +/0, -/47, -/48, -/49, +/50, +/51, ...\n",
      "===========\n",
      "Round: 8\n",
      "..., -/48, -/49, +/50, +/51, ...\n",
      "===========\n",
      "Round: 9\n",
      "..., -/49, +/50, ...\n",
      "===========\n"
     ]
    },
    {
     "data": {
      "text/plain": [
       "{50}"
      ]
     },
     "execution_count": 86,
     "metadata": {},
     "output_type": "execute_result"
    }
   ],
   "source": [
    "test_circle_2 = Circle(test_particles_2)\n",
    "test_circle_2.get_last_survivor_pos(verbose=True)"
   ]
  },
  {
   "cell_type": "markdown",
   "metadata": {},
   "source": [
    "### Intrepretation:\n",
    "- Being at leftmost on the largest group of consecutive matter particles is best \n",
    "- BUT we must consider \"additive\" effects from matter \"clumping\" together after consecutive rounds of annihilation\n",
    "- We can calculate this \"additive\" difference by taking a consecutive difference with matter particles adding 1 and antimatter particles subtracting 1. The best place to be will be to the right of the most negative difference."
   ]
  },
  {
   "cell_type": "markdown",
   "metadata": {},
   "source": [
    "### Intrepretation:\n",
    "- Being at leftmost on the largest group of consecutive matter particles is best \n",
    "- BUT we must consider \"additive\" effects from matter \"clumping\" together after consecutive rounds of annihilation"
   ]
  },
  {
   "cell_type": "code",
   "execution_count": 107,
   "metadata": {},
   "outputs": [],
   "source": [
    "# consecutive diff\n",
    "diffs = []\n",
    "for particle_type in test_particles_2:\n",
    "    val = 1 if particle_type == Particle.MATTER else -1\n",
    "    last_val = diffs[-1] if len(diffs) else 0\n",
    "    diffs.append(last_val + val)"
   ]
  },
  {
   "cell_type": "code",
   "execution_count": 108,
   "metadata": {},
   "outputs": [
    {
     "name": "stdout",
     "output_type": "stream",
     "text": [
      "0: 1\n",
      "1: 2\n",
      "2: 1\n",
      "3: 2\n",
      "4: 3\n",
      "5: 4\n",
      "6: 5\n",
      "7: 4\n",
      "8: 5\n",
      "9: 6\n",
      "10: 5\n",
      "11: 4\n",
      "12: 5\n",
      "13: 4\n",
      "14: 5\n",
      "15: 4\n",
      "16: 3\n",
      "17: 2\n",
      "18: 1\n",
      "19: 2\n",
      "20: 1\n",
      "21: 2\n",
      "22: 3\n",
      "23: 4\n",
      "24: 5\n",
      "25: 4\n",
      "26: 5\n",
      "27: 6\n",
      "28: 7\n",
      "29: 8\n",
      "30: 7\n",
      "31: 8\n",
      "32: 7\n",
      "33: 6\n",
      "34: 5\n",
      "35: 6\n",
      "36: 5\n",
      "37: 4\n",
      "38: 5\n",
      "39: 4\n",
      "40: 3\n",
      "41: 2\n",
      "42: 1\n",
      "43: 2\n",
      "44: 1\n",
      "45: 2\n",
      "46: 1\n",
      "47: 0\n",
      "48: -1\n",
      "49: -2\n",
      "50: -1\n",
      "51: 0\n",
      "52: 1\n",
      "53: 0\n",
      "54: 1\n",
      "55: 2\n",
      "56: 3\n",
      "57: 2\n",
      "58: 1\n",
      "59: 0\n"
     ]
    }
   ],
   "source": [
    "print_val_with_index(diffs)"
   ]
  },
  {
   "cell_type": "markdown",
   "metadata": {},
   "source": [
    "### Intrepretation:\n",
    "- By taking this running consecutive sum, we can deduce the spot we can survive at\n",
    "- The lowest point occurs at the index where there is the longest run of antimatter particles\n",
    "- Therefore, the spot just to the right of that index is the best spot to be!"
   ]
  },
  {
   "cell_type": "markdown",
   "metadata": {},
   "source": [
    "\n",
    "<img src='assets/circles.png' width='600px'>"
   ]
  }
 ],
 "metadata": {
  "kernelspec": {
   "display_name": "Python 3",
   "language": "python",
   "name": "python3"
  },
  "language_info": {
   "codemirror_mode": {
    "name": "ipython",
    "version": 3
   },
   "file_extension": ".py",
   "mimetype": "text/x-python",
   "name": "python",
   "nbconvert_exporter": "python",
   "pygments_lexer": "ipython3",
   "version": "3.8.5"
  }
 },
 "nbformat": 4,
 "nbformat_minor": 4
}
